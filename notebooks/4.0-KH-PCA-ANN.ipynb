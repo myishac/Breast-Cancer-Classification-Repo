{
 "cells": [
  {
   "cell_type": "markdown",
   "id": "a49e153d",
   "metadata": {},
   "source": [
    "# Project: Breast Cancer Incidence\n",
    "***Group Members :***\n",
    "    \n",
    "    Kayleigh Habib - 200370580 - kayl26\n",
    "    Myisha Chaudhry - 200591740 - myishac\n",
    "    \n",
    "***GitHub: https://github.com/wlu-labs/final-project-200370580-200591740***"
   ]
  },
  {
   "cell_type": "markdown",
   "id": "37ebf6b4",
   "metadata": {},
   "source": [
    "# Introduction\n",
    "The purpose of this analysis is to determine how effectively can supervised models be used to determine whether a mass indicated in a mammogram is benign or malignant."
   ]
  },
  {
   "cell_type": "code",
   "execution_count": 36,
   "id": "fe27b971",
   "metadata": {},
   "outputs": [],
   "source": [
    "# to catch any warnings\n",
    "import warnings\n",
    "warnings.filterwarnings(\"ignore\")\n",
    "\n",
    "# Load libraries\n",
    "import csv\n",
    "import numpy as np\n",
    "import pandas as pd\n",
    "import seaborn as sns\n",
    "import matplotlib.pyplot as plt\n",
    "\n",
    "# Import packages that will be used in PCA\n",
    "from sklearn.preprocessing import StandardScaler\n",
    "from sklearn.decomposition import PCA\n",
    "\n",
    "# Import packages that will be used in model building and evaluation\n",
    "from sklearn import metrics\n",
    "from sklearn.model_selection import train_test_split\n",
    "from sklearn.model_selection import cross_val_score\n",
    "from sklearn.model_selection import GridSearchCV\n",
    "from sklearn.metrics import confusion_matrix\n",
    "from sklearn.metrics import roc_curve\n",
    "from sklearn.metrics import classification_report\n",
    "from sklearn.linear_model import LogisticRegression\n",
    "from sklearn import tree\n",
    "from sklearn.tree import plot_tree\n",
    "from sklearn.neighbors import KNeighborsClassifier\n",
    "from sklearn.ensemble import RandomForestClassifier\n",
    "from sklearn import svm\n",
    "from sklearn.neural_network import MLPClassifier"
   ]
  },
  {
   "cell_type": "markdown",
   "id": "b4948ca3",
   "metadata": {
    "tags": []
   },
   "source": [
    "## Load and Describe Data\n",
    "\n",
    "The data used was retrieved from the University of California, Irvine (UCI) Machine Learning repository (http://archive.ics.uci.edu/ml/datasets/mammographic+mass) and represents data that was collected by the Institute of Radiology of the University Erlangen-Nuremberg, Germany.\n"
   ]
  },
  {
   "cell_type": "code",
   "execution_count": 2,
   "id": "2b404b83",
   "metadata": {
    "scrolled": false
   },
   "outputs": [
    {
     "data": {
      "text/html": [
       "<div>\n",
       "<style scoped>\n",
       "    .dataframe tbody tr th:only-of-type {\n",
       "        vertical-align: middle;\n",
       "    }\n",
       "\n",
       "    .dataframe tbody tr th {\n",
       "        vertical-align: top;\n",
       "    }\n",
       "\n",
       "    .dataframe thead th {\n",
       "        text-align: right;\n",
       "    }\n",
       "</style>\n",
       "<table border=\"1\" class=\"dataframe\">\n",
       "  <thead>\n",
       "    <tr style=\"text-align: right;\">\n",
       "      <th></th>\n",
       "      <th>BI-RADS assessment</th>\n",
       "      <th>Age</th>\n",
       "      <th>Shape</th>\n",
       "      <th>Margin</th>\n",
       "      <th>Density</th>\n",
       "      <th>Severity</th>\n",
       "    </tr>\n",
       "  </thead>\n",
       "  <tbody>\n",
       "    <tr>\n",
       "      <th>0</th>\n",
       "      <td>5</td>\n",
       "      <td>67</td>\n",
       "      <td>3</td>\n",
       "      <td>5</td>\n",
       "      <td>3</td>\n",
       "      <td>1</td>\n",
       "    </tr>\n",
       "    <tr>\n",
       "      <th>1</th>\n",
       "      <td>4</td>\n",
       "      <td>43</td>\n",
       "      <td>1</td>\n",
       "      <td>1</td>\n",
       "      <td>NaN</td>\n",
       "      <td>1</td>\n",
       "    </tr>\n",
       "    <tr>\n",
       "      <th>2</th>\n",
       "      <td>5</td>\n",
       "      <td>58</td>\n",
       "      <td>4</td>\n",
       "      <td>5</td>\n",
       "      <td>3</td>\n",
       "      <td>1</td>\n",
       "    </tr>\n",
       "    <tr>\n",
       "      <th>3</th>\n",
       "      <td>4</td>\n",
       "      <td>28</td>\n",
       "      <td>1</td>\n",
       "      <td>1</td>\n",
       "      <td>3</td>\n",
       "      <td>0</td>\n",
       "    </tr>\n",
       "    <tr>\n",
       "      <th>4</th>\n",
       "      <td>5</td>\n",
       "      <td>74</td>\n",
       "      <td>1</td>\n",
       "      <td>5</td>\n",
       "      <td>NaN</td>\n",
       "      <td>1</td>\n",
       "    </tr>\n",
       "  </tbody>\n",
       "</table>\n",
       "</div>"
      ],
      "text/plain": [
       "  BI-RADS assessment Age Shape Margin Density  Severity\n",
       "0                  5  67     3      5       3         1\n",
       "1                  4  43     1      1     NaN         1\n",
       "2                  5  58     4      5       3         1\n",
       "3                  4  28     1      1       3         0\n",
       "4                  5  74     1      5     NaN         1"
      ]
     },
     "execution_count": 2,
     "metadata": {},
     "output_type": "execute_result"
    }
   ],
   "source": [
    "#Load Data\n",
    "mammogramdata = pd.read_csv(\"mammographic_masses.data\", names = [\"BI-RADS assessment\", \"Age\", \"Shape\", \"Margin\", \"Density\", \"Severity\"])\n",
    "mammogramdata.replace(\"?\", np.nan, inplace=True)\n",
    "mammogramdata.head(5)\n"
   ]
  },
  {
   "cell_type": "code",
   "execution_count": 3,
   "id": "28999a47",
   "metadata": {},
   "outputs": [
    {
     "name": "stdout",
     "output_type": "stream",
     "text": [
      "<class 'pandas.core.frame.DataFrame'>\n",
      "RangeIndex: 961 entries, 0 to 960\n",
      "Data columns (total 6 columns):\n",
      " #   Column              Non-Null Count  Dtype \n",
      "---  ------              --------------  ----- \n",
      " 0   BI-RADS assessment  959 non-null    object\n",
      " 1   Age                 956 non-null    object\n",
      " 2   Shape               930 non-null    object\n",
      " 3   Margin              913 non-null    object\n",
      " 4   Density             885 non-null    object\n",
      " 5   Severity            961 non-null    int64 \n",
      "dtypes: int64(1), object(5)\n",
      "memory usage: 45.2+ KB\n"
     ]
    }
   ],
   "source": [
    "# Look at the makeup of the data\n",
    "mammogramdata.info()\n",
    "#961 rows of 5 variables and 1 target (severity)"
   ]
  },
  {
   "cell_type": "markdown",
   "id": "5803555d",
   "metadata": {},
   "source": [
    "# Current Methodology for Classifying Mammogram Masses\n",
    "\n",
    "Under the current methodology, mammogram masses are examined by radiologists, and a BI-RADS assessment is assigned. According to https://radiopaedia.org/articles/breast-imaging-reporting-and-data-system-bi-rads the assessment is interpreted as follows:\n",
    "0 - incomplete (repeat mammogram)\n",
    "1 - negative\n",
    "2 - benign \n",
    "3 - likely benign (<2% probability of malignancy). Follow up in shortened interval.\n",
    "4 - suspected malignant (biopsy recommended)\n",
    "5 - highly likely to be malignant\n",
    "6 - malignant but only assigned after biopsy confirmation\n",
    "\n",
    "For our analysis, we will remove any observations with 0 or 6, and will group 1-3 as negative, and 4-5 as positive."
   ]
  },
  {
   "cell_type": "code",
   "execution_count": 4,
   "id": "64ee26a3",
   "metadata": {},
   "outputs": [
    {
     "name": "stdout",
     "output_type": "stream",
     "text": [
      "426 467 7 43\n"
     ]
    },
    {
     "data": {
      "text/plain": [
       "array([[ 43, 467],\n",
       "       [  7, 426]])"
      ]
     },
     "execution_count": 4,
     "metadata": {},
     "output_type": "execute_result"
    }
   ],
   "source": [
    "# create a dataframe with only the BI-RADS assessment and Severity columns\n",
    "# Remove any rows with missing bi-rads values\n",
    "birads = mammogramdata.loc[:, ['BI-RADS assessment', 'Severity']]\n",
    "\n",
    "\n",
    "birads['BI-RADS assessment'] = birads['BI-RADS assessment'].replace({'0':np.nan,'6':np.nan, '55':'5'}).dropna()\n",
    "birads.value_counts()\n",
    "\n",
    "# replace BI-RADS assessment with a 0 or 1, based on information from *****\n",
    "birads['BI-RADS assessment'] = birads['BI-RADS assessment'].replace({'1':0, '2':0, '3':0, '4':1, '5':1})\n",
    "birads['BI-RADS assessment'].value_counts()\n",
    "\n",
    "\n",
    "#calculate values for confusion matrix\n",
    "truepositive = sum((birads['BI-RADS assessment'] == 1) & (birads['Severity'] == 1))\n",
    "falsepositive = sum((birads['BI-RADS assessment'] == 1) & (birads['Severity'] == 0))\n",
    "falsenegative = sum((birads['BI-RADS assessment'] == 0) & (birads['Severity'] == 1))\n",
    "truenegative = sum((birads['BI-RADS assessment']  == 0) & (birads['Severity'] == 0))\n",
    "print(truepositive, falsepositive, falsenegative, truenegative)\n",
    "\n",
    "# Create and display confusion matrix\n",
    "birad_cm = np.array([[truenegative, falsepositive],[falsenegative, truepositive]])\n",
    "birad_cm\n",
    "\n",
    "# From this summary it appears that the majority of mammogram masses (over 90%) are classified as malignant under\n",
    "# the BI-RADS assessment. "
   ]
  },
  {
   "cell_type": "markdown",
   "id": "af9b2546",
   "metadata": {},
   "source": [
    "### Attribute Information\n",
    "\n",
    "The data contains 961 records of mammogram masses in 6 columns. These columns contain the following information:\n",
    "\n",
    "BI-RADS assessment: 1 to 5 (ordinal, non-predictive!)\n",
    "\n",
    "Age: patient's age in years (integer)\n",
    "\n",
    "Shape: mass shape: round=1 oval=2 lobular=3 irregular=4 (nominal)\n",
    "\n",
    "Margin: mass margin: circumscribed=1 microlobulated=2 obscured=3 ill-defined=4 spiculated=5 (nominal)\n",
    "\n",
    "Density: mass density high=1 iso=2 low=3 fat-containing=4 (ordinal)\n",
    "\n",
    "Severity: benign=0 or malignant=1 (binominal, target)\n",
    "\n",
    "\n",
    "The Breast Imaging Reporting and Data System (BI-RADS) assessment is assigned by a doctor after examination of the mammogram results. As this is based primarily of the shape, margin, and density attributes, it is considered non-predictive so it will not be used in the model. Instead, this can be used to compare against the model predictions to determine whether any of the models out-perform these assessments.\n",
    "\n",
    "Severity is the target variable and denotes whether a mass is assessed to be benign (non-cancerous) or malignant."
   ]
  },
  {
   "cell_type": "markdown",
   "id": "ff405d4b",
   "metadata": {},
   "source": [
    "# Review and Clean Data"
   ]
  },
  {
   "cell_type": "code",
   "execution_count": 5,
   "id": "a1b4c190",
   "metadata": {},
   "outputs": [
    {
     "data": {
      "text/html": [
       "<div>\n",
       "<style scoped>\n",
       "    .dataframe tbody tr th:only-of-type {\n",
       "        vertical-align: middle;\n",
       "    }\n",
       "\n",
       "    .dataframe tbody tr th {\n",
       "        vertical-align: top;\n",
       "    }\n",
       "\n",
       "    .dataframe thead th {\n",
       "        text-align: right;\n",
       "    }\n",
       "</style>\n",
       "<table border=\"1\" class=\"dataframe\">\n",
       "  <thead>\n",
       "    <tr style=\"text-align: right;\">\n",
       "      <th></th>\n",
       "      <th>Age</th>\n",
       "      <th>Shape</th>\n",
       "      <th>Margin</th>\n",
       "      <th>Density</th>\n",
       "      <th>Severity</th>\n",
       "    </tr>\n",
       "  </thead>\n",
       "  <tbody>\n",
       "    <tr>\n",
       "      <th>0</th>\n",
       "      <td>67</td>\n",
       "      <td>3</td>\n",
       "      <td>5</td>\n",
       "      <td>3</td>\n",
       "      <td>1</td>\n",
       "    </tr>\n",
       "    <tr>\n",
       "      <th>1</th>\n",
       "      <td>43</td>\n",
       "      <td>1</td>\n",
       "      <td>1</td>\n",
       "      <td>NaN</td>\n",
       "      <td>1</td>\n",
       "    </tr>\n",
       "    <tr>\n",
       "      <th>2</th>\n",
       "      <td>58</td>\n",
       "      <td>4</td>\n",
       "      <td>5</td>\n",
       "      <td>3</td>\n",
       "      <td>1</td>\n",
       "    </tr>\n",
       "    <tr>\n",
       "      <th>3</th>\n",
       "      <td>28</td>\n",
       "      <td>1</td>\n",
       "      <td>1</td>\n",
       "      <td>3</td>\n",
       "      <td>0</td>\n",
       "    </tr>\n",
       "    <tr>\n",
       "      <th>4</th>\n",
       "      <td>74</td>\n",
       "      <td>1</td>\n",
       "      <td>5</td>\n",
       "      <td>NaN</td>\n",
       "      <td>1</td>\n",
       "    </tr>\n",
       "  </tbody>\n",
       "</table>\n",
       "</div>"
      ],
      "text/plain": [
       "  Age Shape Margin Density  Severity\n",
       "0  67     3      5       3         1\n",
       "1  43     1      1     NaN         1\n",
       "2  58     4      5       3         1\n",
       "3  28     1      1       3         0\n",
       "4  74     1      5     NaN         1"
      ]
     },
     "execution_count": 5,
     "metadata": {},
     "output_type": "execute_result"
    }
   ],
   "source": [
    "#The BI-RADS variable is not-predictive so it is removed from the data\n",
    "mammoData = mammogramdata.drop(['BI-RADS assessment'], axis=1)\n",
    "mammoData.head()"
   ]
  },
  {
   "cell_type": "code",
   "execution_count": 6,
   "id": "fc4158c6",
   "metadata": {},
   "outputs": [
    {
     "data": {
      "text/plain": [
       "Density     76\n",
       "Margin      48\n",
       "Shape       31\n",
       "Age          5\n",
       "Severity     0\n",
       "dtype: int64"
      ]
     },
     "execution_count": 6,
     "metadata": {},
     "output_type": "execute_result"
    }
   ],
   "source": [
    "#Check for missing values\n",
    "missing_mammvalues = mammoData.isnull().sum().sort_values(ascending = False)\n",
    "missing_mammvalues \n",
    "# missing values exist for each one of the predictors. No missing values in target."
   ]
  },
  {
   "cell_type": "code",
   "execution_count": 7,
   "id": "a19adf0c",
   "metadata": {},
   "outputs": [
    {
     "data": {
      "text/plain": [
       "count    961.000000\n",
       "mean      55.495317\n",
       "std       14.442783\n",
       "min       18.000000\n",
       "25%       45.000000\n",
       "50%       57.000000\n",
       "75%       66.000000\n",
       "max       96.000000\n",
       "Name: Age, dtype: float64"
      ]
     },
     "execution_count": 7,
     "metadata": {},
     "output_type": "execute_result"
    }
   ],
   "source": [
    "#Most of the records with missing values may have to be dropped\n",
    "#Can examine missing Age which occurs in only 5 cases\n",
    "\n",
    "#change Age to integer\n",
    "# substitute median for the missing Age values\n",
    "mammoData['Age'] = mammoData['Age'].fillna(mammoData['Age'].median()).astype('int')\n",
    "\n",
    "mammoData['Age'].describe()"
   ]
  },
  {
   "cell_type": "code",
   "execution_count": 8,
   "id": "fb5adb4f",
   "metadata": {},
   "outputs": [
    {
     "name": "stdout",
     "output_type": "stream",
     "text": [
      "<class 'pandas.core.frame.DataFrame'>\n",
      "Int64Index: 836 entries, 0 to 960\n",
      "Data columns (total 5 columns):\n",
      " #   Column    Non-Null Count  Dtype \n",
      "---  ------    --------------  ----- \n",
      " 0   Age       836 non-null    int64 \n",
      " 1   Shape     836 non-null    object\n",
      " 2   Margin    836 non-null    object\n",
      " 3   Density   836 non-null    object\n",
      " 4   Severity  836 non-null    int64 \n",
      "dtypes: int64(2), object(3)\n",
      "memory usage: 39.2+ KB\n"
     ]
    }
   ],
   "source": [
    "#Drop the records that still contain missing values\n",
    "mammoData = mammoData.dropna()\n",
    "mammoData.info()\n",
    "#there are 836 records remaining"
   ]
  },
  {
   "cell_type": "code",
   "execution_count": 9,
   "id": "8925a618",
   "metadata": {},
   "outputs": [
    {
     "data": {
      "text/plain": [
       "3    798\n",
       "2     59\n",
       "1     16\n",
       "4     12\n",
       "Name: Density, dtype: int64"
      ]
     },
     "execution_count": 9,
     "metadata": {},
     "output_type": "execute_result"
    }
   ],
   "source": [
    "# Change Density variable to integer as it is an ordinal value\n",
    "mammoData['Density'].astype('int')\n",
    "mammogramdata['Density'].value_counts(ascending=False)"
   ]
  },
  {
   "cell_type": "markdown",
   "id": "b86b84c7",
   "metadata": {},
   "source": [
    "# Model Planning\n",
    "\n",
    "## Exploratory Data Analysis\n",
    "We now look at the variables in the data to determine how their values are distributed, and how the attributes are related to the target. Based on the following charts, the dataset seems well-balanced with respect to the target (51% benign and 49% malignant). There does not appear to be any outliers in the values of predictors."
   ]
  },
  {
   "cell_type": "code",
   "execution_count": 10,
   "id": "16e5b0c8",
   "metadata": {},
   "outputs": [
    {
     "data": {
      "text/plain": [
       "0    0.511962\n",
       "1    0.488038\n",
       "Name: Severity, dtype: float64"
      ]
     },
     "execution_count": 10,
     "metadata": {},
     "output_type": "execute_result"
    }
   ],
   "source": [
    "#Look at distribution of target variable in the data\n",
    "\n",
    "mammoData['Severity'].value_counts(normalize = True)\n",
    "\n",
    "# Data is balanced with about 51% benign cases and 49% malignant cases"
   ]
  },
  {
   "cell_type": "code",
   "execution_count": 11,
   "id": "c3fbb6e0",
   "metadata": {},
   "outputs": [
    {
     "data": {
      "image/png": "[encoded data removed]",
      "text/plain": [
       "<Figure size 432x288 with 1 Axes>"
      ]
     },
     "metadata": {
      "needs_background": "light"
     },
     "output_type": "display_data"
    }
   ],
   "source": [
    "#Look at distribution of target variable in the data\n",
    "\n",
    "plotData =mammoData['Severity'].value_counts(normalize=True)*100\n",
    "newData = plotData.to_frame().reset_index()\n",
    "newData.columns = ['Severity', 'Percentage']\n",
    "#ewData.head()\n",
    "\n",
    "sns.barplot(data=newData, x='Severity', y ='Percentage');\n",
    "plt.title('Percentage of Severity by Outcome', fontsize = 16);\n"
   ]
  },
  {
   "cell_type": "code",
   "execution_count": 12,
   "id": "f593abb9",
   "metadata": {},
   "outputs": [
    {
     "data": {
      "image/png": "[encoded data removed]",
      "text/plain": [
       "<Figure size 720x576 with 1 Axes>"
      ]
     },
     "metadata": {
      "needs_background": "light"
     },
     "output_type": "display_data"
    }
   ],
   "source": [
    "# Look at Distribution of Density variable\n",
    "fig, axes = plt.subplots(1, 1, figsize=(10, 8))\n",
    "# Plot frequency plot/ histogram to look for distribution as well as outliers\n",
    "sns.histplot(x=\"Density\", kde=False, data=mammoData.sort_values('Density'), ax=axes, bins=4);\n",
    "axes.set(xlabel=\"Density\");\n",
    "axes.xaxis.label.set_size(18)\n",
    "axes.yaxis.label.set_size(18)\n",
    "axes.tick_params('y', labelsize = 14);\n",
    "axes.tick_params('x', labelsize = 14);\n",
    "plt.xticks([0,1,2,3,4]);\n",
    "plt.title('Distribution of Density', fontsize=16);\n",
    "\n",
    "#The majority of masses are classified as Density 3 (low)\n"
   ]
  },
  {
   "cell_type": "code",
   "execution_count": 13,
   "id": "05c71429",
   "metadata": {},
   "outputs": [
    {
     "data": {
      "image/png": "[encoded data removed]",
      "text/plain": [
       "<Figure size 720x576 with 1 Axes>"
      ]
     },
     "metadata": {
      "needs_background": "light"
     },
     "output_type": "display_data"
    }
   ],
   "source": [
    "mammoData['Margin'].value_counts(ascending =False)\n",
    "\n",
    "fig, axes = plt.subplots(1, 1, figsize=(10, 8))\n",
    "\n",
    "# Plot frequency plot/ histogram to look for distribution as well as outliers\n",
    "sns.histplot(x=\"Margin\", kde=True, data=mammoData.sort_values('Margin'), ax=axes, bins=5);\n",
    "axes.set(xlabel=\"Margin\");\n",
    "axes.xaxis.label.set_size(18)\n",
    "axes.yaxis.label.set_size(18)\n",
    "axes.tick_params('y', labelsize = 14);\n",
    "axes.tick_params('x', labelsize = 14);\n",
    "plt.title('Distribution of Margin', fontsize=16);\n",
    "\n",
    "# Most of the mammogram masses are in either the 1 or 4 category i.e. circumscribed or ill-defined"
   ]
  },
  {
   "cell_type": "code",
   "execution_count": 14,
   "id": "426d6533",
   "metadata": {},
   "outputs": [
    {
     "data": {
      "image/png": "[encoded data removed]",
      "text/plain": [
       "<Figure size 720x576 with 1 Axes>"
      ]
     },
     "metadata": {
      "needs_background": "light"
     },
     "output_type": "display_data"
    }
   ],
   "source": [
    "mammoData['Shape'].value_counts(ascending =False)\n",
    "\n",
    "fig, axes = plt.subplots(1, 1, figsize=(10, 8))\n",
    "\n",
    "# Plot frequency plot/ histogram to look for distribution as well as outliers\n",
    "sns.histplot(x=\"Shape\", kde=True, data=mammoData.sort_values('Shape'),ax=axes, bins=4);\n",
    "axes.set(xlabel=\"Shape\");\n",
    "axes.xaxis.label.set_size(18)\n",
    "axes.yaxis.label.set_size(18)\n",
    "axes.tick_params('y', labelsize = 14);\n",
    "axes.tick_params('x', labelsize = 14);\n",
    "plt.title('Distribution of Shape', fontsize=16);\n",
    "\n",
    "# Category 3 (lobular) contains the least number of records"
   ]
  },
  {
   "cell_type": "code",
   "execution_count": 15,
   "id": "f4e8b5f4",
   "metadata": {},
   "outputs": [
    {
     "data": {
      "image/png": "[encoded data removed]",
      "text/plain": [
       "<Figure size 720x720 with 2 Axes>"
      ]
     },
     "metadata": {
      "needs_background": "light"
     },
     "output_type": "display_data"
    }
   ],
   "source": [
    "# Look at distribution of Age\n",
    "\n",
    "fig, axs = plt.subplots(nrows=2, figsize=(10, 10))\n",
    "\n",
    "sns.distplot(\n",
    "   mammoData['Age'].values, \n",
    "    kde=True,\n",
    "    bins = 40,\n",
    "    ax=axs[0]\n",
    ")\n",
    "\n",
    "sns.stripplot(\n",
    "    mammoData['Age'].values, \n",
    "    jitter=0.4, \n",
    "    size=3,\n",
    "    ax=axs[1],\n",
    "    alpha=0.3\n",
    ")\n",
    "\n",
    "sns.boxplot(\n",
    "    mammoData['Age'].values,\n",
    "    width=0.3, \n",
    "    ax=axs[1],\n",
    "    showfliers=False,\n",
    ")\n",
    "\n",
    "# Align axes\n",
    "spacer = np.max(mammoData['Age']) * 0.05\n",
    "xmin = np.min(mammoData['Age']) - spacer\n",
    "xmax = np.max(mammoData['Age']) + spacer\n",
    "axs[0].set_xlim((xmin, xmax))\n",
    "axs[1].set_xlim((xmin, xmax))\n",
    "\n",
    "axs[1].set(xlabel='Age');\n",
    "axs[1].xaxis.label.set_size(16)\n",
    "axs[0].yaxis.label.set_size(16)\n",
    "\n",
    "\n",
    "# Put the two plots together\n",
    "plt.subplots_adjust(hspace=0)\n",
    "\n",
    "# Adjust boxplot fill to be white\n",
    "#axs[1].artists[0].set_facecolor('white')"
   ]
  },
  {
   "cell_type": "markdown",
   "id": "9b1e08fe-2def-4f04-8e05-64379a41e7c2",
   "metadata": {
    "tags": []
   },
   "source": [
    "## Relationships between Predictors and Response\n",
    "\n",
    "We now examine how each of the predictors is related to the target, as well as whether there are any collinearities among the predictors."
   ]
  },
  {
   "cell_type": "code",
   "execution_count": 16,
   "id": "f64c8f2d",
   "metadata": {},
   "outputs": [
    {
     "data": {
      "image/png": "[encoded data removed]",
      "text/plain": [
       "<Figure size 432x288 with 1 Axes>"
      ]
     },
     "metadata": {
      "needs_background": "light"
     },
     "output_type": "display_data"
    }
   ],
   "source": [
    "#create a stacked bar chart to show incidence of breast cancer by each Density class\n",
    "pd.crosstab(mammoData['Density'],mammoData['Severity'],normalize='index').plot.bar(stacked=True)\n",
    "plt.title(\"Proportion of Breast Cancer Diagnosis by Density\", fontsize=16);\n",
    "#plt.legend(loc='center right', title='Severity')\n",
    "plt.legend(bbox_to_anchor=(1.02, 1), loc='upper left', borderaxespad=0, title='Severity');\n",
    "\n",
    "#Desnity category 2 (iso) has a lower incidence of breast cancer than the other categories."
   ]
  },
  {
   "cell_type": "code",
   "execution_count": 17,
   "id": "c78844d3",
   "metadata": {},
   "outputs": [
    {
     "data": {
      "image/png": "[encoded data removed]",
      "text/plain": [
       "<Figure size 432x288 with 1 Axes>"
      ]
     },
     "metadata": {
      "needs_background": "light"
     },
     "output_type": "display_data"
    }
   ],
   "source": [
    "#create a stacked bar chart to show incidence of breast cancer by each shape class\n",
    "pd.crosstab(mammoData['Shape'],mammoData['Severity'],normalize='index').plot.bar(stacked=True)\n",
    "plt.title(\"Proportion of Breast Cancer Diagnosis by Shape\", fontsize=16);\n",
    "#plt.legend(loc='center right', title='Severity')\n",
    "plt.legend(bbox_to_anchor=(1.02, 1), loc='upper left', borderaxespad=0, title='Severity');\n",
    "\n",
    "#Shape categories 1 and 2 have lowest incidence of breast cancer. The incidence rate is about 50% for shape category 3,\n",
    "#and increases to almoat 80% for Shape category 4."
   ]
  },
  {
   "cell_type": "code",
   "execution_count": 18,
   "id": "5d131eb5",
   "metadata": {},
   "outputs": [
    {
     "data": {
      "image/png": "[encoded data removed]",
      "text/plain": [
       "<Figure size 432x288 with 1 Axes>"
      ]
     },
     "metadata": {
      "needs_background": "light"
     },
     "output_type": "display_data"
    }
   ],
   "source": [
    "#create a stacked bar chart to show incidence of breast cancer by each margin class\n",
    "pd.crosstab(mammoData['Margin'],mammoData['Severity'],normalize='index').plot.bar(stacked=True)\n",
    "plt.title(\"Proportion of Breast Cancer Diagnosis by Margin\", fontsize=16);\n",
    "plt.legend(bbox_to_anchor=(1.02, 1), loc='upper left', borderaxespad=0, title='Severity');\n",
    "#Margin category 1 has low incidence of breast cancer. The incidence rate increases with each subsequent category,\n",
    "#and is highest for Margin category 5."
   ]
  },
  {
   "cell_type": "code",
   "execution_count": 19,
   "id": "70f94dcb",
   "metadata": {},
   "outputs": [
    {
     "data": {
      "image/png": "[encoded data removed]",
      "text/plain": [
       "<Figure size 432x288 with 1 Axes>"
      ]
     },
     "metadata": {
      "needs_background": "light"
     },
     "output_type": "display_data"
    }
   ],
   "source": [
    "sns.boxplot(data=mammoData, x=\"Severity\", y=\"Age\")\n",
    "plt.title('Distribution of Age by Breast Cancer Diagnosis', fontsize=16)\n",
    "sns.set(rc = {'figure.figsize':(8,6)});\n",
    "#Incidence of breast cancer appears to be more likely at higher ages"
   ]
  },
  {
   "cell_type": "markdown",
   "id": "4e27d731-98d4-45ab-b7ea-b95969afe3e9",
   "metadata": {
    "tags": []
   },
   "source": [
    "## Feature Engineering"
   ]
  },
  {
   "cell_type": "markdown",
   "id": "07145a54",
   "metadata": {},
   "source": [
    "## Correlation matrix\n",
    "\n",
    "***Talk about pairplots***"
   ]
  },
  {
   "cell_type": "code",
   "execution_count": 20,
   "id": "61b7010c",
   "metadata": {},
   "outputs": [
    {
     "data": {
      "image/png": "[encoded data removed]",
      "text/plain": [
       "<Figure size 360x360 with 6 Axes>"
      ]
     },
     "metadata": {},
     "output_type": "display_data"
    }
   ],
   "source": [
    "sns.pairplot(mammoData);"
   ]
  },
  {
   "cell_type": "markdown",
   "id": "1d02658d",
   "metadata": {},
   "source": [
    "## Principal Component Analysis\n",
    "Principal components analysis (PCA) is an unsupervised learning method that can be used for dimenionality reduction. In the mammographic mass data, there are only 4 features, so it is not considered high-dimensional. However, we will explore the application of PCA to better understand the relationships between the features as well as to the target."
   ]
  },
  {
   "cell_type": "code",
   "execution_count": 21,
   "id": "d8ddd34f",
   "metadata": {},
   "outputs": [
    {
     "data": {
      "text/html": [
       "<div>\n",
       "<style scoped>\n",
       "    .dataframe tbody tr th:only-of-type {\n",
       "        vertical-align: middle;\n",
       "    }\n",
       "\n",
       "    .dataframe tbody tr th {\n",
       "        vertical-align: top;\n",
       "    }\n",
       "\n",
       "    .dataframe thead th {\n",
       "        text-align: right;\n",
       "    }\n",
       "</style>\n",
       "<table border=\"1\" class=\"dataframe\">\n",
       "  <thead>\n",
       "    <tr style=\"text-align: right;\">\n",
       "      <th></th>\n",
       "      <th>Age</th>\n",
       "      <th>Shape</th>\n",
       "      <th>Margin</th>\n",
       "      <th>Density</th>\n",
       "    </tr>\n",
       "  </thead>\n",
       "  <tbody>\n",
       "    <tr>\n",
       "      <th>0</th>\n",
       "      <td>0.767588</td>\n",
       "      <td>0.169679</td>\n",
       "      <td>1.393444</td>\n",
       "      <td>0.239552</td>\n",
       "    </tr>\n",
       "    <tr>\n",
       "      <th>1</th>\n",
       "      <td>0.151618</td>\n",
       "      <td>0.975657</td>\n",
       "      <td>1.393444</td>\n",
       "      <td>0.239552</td>\n",
       "    </tr>\n",
       "    <tr>\n",
       "      <th>2</th>\n",
       "      <td>-1.901613</td>\n",
       "      <td>-1.442275</td>\n",
       "      <td>-1.164007</td>\n",
       "      <td>0.239552</td>\n",
       "    </tr>\n",
       "    <tr>\n",
       "      <th>3</th>\n",
       "      <td>0.083177</td>\n",
       "      <td>-1.442275</td>\n",
       "      <td>1.393444</td>\n",
       "      <td>0.239552</td>\n",
       "    </tr>\n",
       "    <tr>\n",
       "      <th>4</th>\n",
       "      <td>1.383557</td>\n",
       "      <td>-1.442275</td>\n",
       "      <td>0.754081</td>\n",
       "      <td>0.239552</td>\n",
       "    </tr>\n",
       "  </tbody>\n",
       "</table>\n",
       "</div>"
      ],
      "text/plain": [
       "        Age     Shape    Margin   Density\n",
       "0  0.767588  0.169679  1.393444  0.239552\n",
       "1  0.151618  0.975657  1.393444  0.239552\n",
       "2 -1.901613 -1.442275 -1.164007  0.239552\n",
       "3  0.083177 -1.442275  1.393444  0.239552\n",
       "4  1.383557 -1.442275  0.754081  0.239552"
      ]
     },
     "execution_count": 21,
     "metadata": {},
     "output_type": "execute_result"
    }
   ],
   "source": [
    "#Explore Principle Components Analysis \n",
    "\n",
    "#Create data without target variable\n",
    "mammo_features = mammoData.drop(['Severity'], axis=1)\n",
    "mammo_target = mammoData['Severity']\n",
    "\n",
    "#Scale the feature columns\n",
    "scaler = StandardScaler()\n",
    "scaler.fit(mammo_features)\n",
    "mammoFeatures_s = scaler.transform(mammo_features)\n",
    "\n",
    "col_names = list(mammo_features.columns.values)\n",
    "mammoFeatures_s = pd.DataFrame(mammoFeatures_s, columns=col_names)\n",
    "mammoFeatures_s.head()"
   ]
  },
  {
   "cell_type": "code",
   "execution_count": 22,
   "id": "2aff4aed",
   "metadata": {},
   "outputs": [
    {
     "name": "stdout",
     "output_type": "stream",
     "text": [
      "              pc1       pc2       pc3       pc4\n",
      "Age     -0.469405 -0.609182 -0.623743 -0.139644\n",
      "Shape    0.127863  0.094379  0.032516 -0.986756\n",
      "Margin   0.871943 -0.385116 -0.294938  0.066432\n",
      "Density -0.055008 -0.686786  0.723117 -0.048988\n"
     ]
    },
    {
     "data": {
      "text/html": [
       "<div>\n",
       "<style scoped>\n",
       "    .dataframe tbody tr th:only-of-type {\n",
       "        vertical-align: middle;\n",
       "    }\n",
       "\n",
       "    .dataframe tbody tr th {\n",
       "        vertical-align: top;\n",
       "    }\n",
       "\n",
       "    .dataframe thead th {\n",
       "        text-align: right;\n",
       "    }\n",
       "</style>\n",
       "<table border=\"1\" class=\"dataframe\">\n",
       "  <thead>\n",
       "    <tr style=\"text-align: right;\">\n",
       "      <th></th>\n",
       "      <th>pc1</th>\n",
       "      <th>pc2</th>\n",
       "      <th>pc3</th>\n",
       "      <th>pc4</th>\n",
       "    </tr>\n",
       "  </thead>\n",
       "  <tbody>\n",
       "    <tr>\n",
       "      <th>0</th>\n",
       "      <td>-1.366278</td>\n",
       "      <td>-0.076910</td>\n",
       "      <td>0.208880</td>\n",
       "      <td>0.837132</td>\n",
       "    </tr>\n",
       "    <tr>\n",
       "      <th>1</th>\n",
       "      <td>-1.568126</td>\n",
       "      <td>-0.079602</td>\n",
       "      <td>-0.638605</td>\n",
       "      <td>0.317481</td>\n",
       "    </tr>\n",
       "    <tr>\n",
       "      <th>2</th>\n",
       "      <td>2.463825</td>\n",
       "      <td>-0.653494</td>\n",
       "      <td>-0.743430</td>\n",
       "      <td>0.241689</td>\n",
       "    </tr>\n",
       "    <tr>\n",
       "      <th>3</th>\n",
       "      <td>-0.063039</td>\n",
       "      <td>-0.316555</td>\n",
       "      <td>0.232904</td>\n",
       "      <td>1.981848</td>\n",
       "    </tr>\n",
       "    <tr>\n",
       "      <th>4</th>\n",
       "      <td>-0.274646</td>\n",
       "      <td>-0.171074</td>\n",
       "      <td>1.555333</td>\n",
       "      <td>1.447982</td>\n",
       "    </tr>\n",
       "  </tbody>\n",
       "</table>\n",
       "</div>"
      ],
      "text/plain": [
       "        pc1       pc2       pc3       pc4\n",
       "0 -1.366278 -0.076910  0.208880  0.837132\n",
       "1 -1.568126 -0.079602 -0.638605  0.317481\n",
       "2  2.463825 -0.653494 -0.743430  0.241689\n",
       "3 -0.063039 -0.316555  0.232904  1.981848\n",
       "4 -0.274646 -0.171074  1.555333  1.447982"
      ]
     },
     "execution_count": 22,
     "metadata": {},
     "output_type": "execute_result"
    }
   ],
   "source": [
    "#Apply pca analysis\n",
    "pca = PCA()\n",
    "pca_mammo = pca.fit_transform(mammoFeatures_s)\n",
    "\n",
    "\n",
    "# Reformat and view results\n",
    "loadings = (pd.DataFrame(pca.components_, columns=['pc1', 'pc2', 'pc3','pc4'],\n",
    "                            index=mammo_features.columns))\n",
    "print(loadings)\n",
    "\n",
    "mammoData_pca = pd.DataFrame(pca_mammo, columns = ['pc1', 'pc2', 'pc3','pc4'])\n",
    "mammoData_pca.head()\n",
    "\n",
    "# Talk about PCA and what it means (put more info into - K)\n",
    "# first component age and margin are most important\n",
    "# second component age and density\n",
    "# third component age and density\n",
    "# fourth component shape (not important overall)"
   ]
  },
  {
   "cell_type": "code",
   "execution_count": 23,
   "id": "2b239a1e",
   "metadata": {},
   "outputs": [
    {
     "data": {
      "text/html": [
       "<div>\n",
       "<style scoped>\n",
       "    .dataframe tbody tr th:only-of-type {\n",
       "        vertical-align: middle;\n",
       "    }\n",
       "\n",
       "    .dataframe tbody tr th {\n",
       "        vertical-align: top;\n",
       "    }\n",
       "\n",
       "    .dataframe thead th {\n",
       "        text-align: right;\n",
       "    }\n",
       "</style>\n",
       "<table border=\"1\" class=\"dataframe\">\n",
       "  <thead>\n",
       "    <tr style=\"text-align: right;\">\n",
       "      <th></th>\n",
       "      <th>pc1</th>\n",
       "      <th>pc2</th>\n",
       "      <th>pc3</th>\n",
       "      <th>pc4</th>\n",
       "      <th>Severity</th>\n",
       "    </tr>\n",
       "  </thead>\n",
       "  <tbody>\n",
       "    <tr>\n",
       "      <th>0</th>\n",
       "      <td>-1.366278</td>\n",
       "      <td>-0.076910</td>\n",
       "      <td>0.208880</td>\n",
       "      <td>0.837132</td>\n",
       "      <td>1</td>\n",
       "    </tr>\n",
       "    <tr>\n",
       "      <th>1</th>\n",
       "      <td>-1.568126</td>\n",
       "      <td>-0.079602</td>\n",
       "      <td>-0.638605</td>\n",
       "      <td>0.317481</td>\n",
       "      <td>1</td>\n",
       "    </tr>\n",
       "    <tr>\n",
       "      <th>2</th>\n",
       "      <td>2.463825</td>\n",
       "      <td>-0.653494</td>\n",
       "      <td>-0.743430</td>\n",
       "      <td>0.241689</td>\n",
       "      <td>0</td>\n",
       "    </tr>\n",
       "    <tr>\n",
       "      <th>3</th>\n",
       "      <td>-0.063039</td>\n",
       "      <td>-0.316555</td>\n",
       "      <td>0.232904</td>\n",
       "      <td>1.981848</td>\n",
       "      <td>1</td>\n",
       "    </tr>\n",
       "    <tr>\n",
       "      <th>4</th>\n",
       "      <td>-0.274646</td>\n",
       "      <td>-0.171074</td>\n",
       "      <td>1.555333</td>\n",
       "      <td>1.447982</td>\n",
       "      <td>1</td>\n",
       "    </tr>\n",
       "  </tbody>\n",
       "</table>\n",
       "</div>"
      ],
      "text/plain": [
       "        pc1       pc2       pc3       pc4  Severity\n",
       "0 -1.366278 -0.076910  0.208880  0.837132         1\n",
       "1 -1.568126 -0.079602 -0.638605  0.317481         1\n",
       "2  2.463825 -0.653494 -0.743430  0.241689         0\n",
       "3 -0.063039 -0.316555  0.232904  1.981848         1\n",
       "4 -0.274646 -0.171074  1.555333  1.447982         1"
      ]
     },
     "execution_count": 23,
     "metadata": {},
     "output_type": "execute_result"
    },
    {
     "data": {
      "image/png": "[encoded data removed]",
      "text/plain": [
       "<Figure size 432x432 with 1 Axes>"
      ]
     },
     "metadata": {},
     "output_type": "display_data"
    }
   ],
   "source": [
    "mammo_target = mammo_target.reset_index(drop=True)\n",
    "concatenated = pd.concat([mammoData_pca, mammo_target], axis=1)\n",
    "#concatenated\n",
    "plt.figure(figsize=(6,6))\n",
    "sns.scatterplot(\n",
    "    x=\"pc1\", y=\"pc2\",\n",
    "    hue= \"Severity\",\n",
    "    #palette=sns.color_palette(\"hls\", 10),\n",
    "    data=concatenated,\n",
    "    legend=\"full\",\n",
    "    alpha=0.3\n",
    ")\n",
    "concatenated.head()\n",
    "\n",
    "#From the graph, it appears that the two classes (benign and malignant), when projected to a two-dimensional space,\n",
    "#can be somewhat linearly separable."
   ]
  },
  {
   "cell_type": "code",
   "execution_count": 24,
   "id": "3c081114",
   "metadata": {},
   "outputs": [
    {
     "name": "stdout",
     "output_type": "stream",
     "text": [
      "Explained variation per principal component: [51.64260507 24.54675435 17.36215765  6.44848294]\n"
     ]
    }
   ],
   "source": [
    "df = pd.DataFrame({'Variance Explained %':pca.explained_variance_ratio_*100,\n",
    "             'Principal Components':['PC1','PC2', 'PC3', 'PC4']})\n",
    "#sns.barplot(x='Principal Components',y=\"Variance Explained %\", data=df, color=\"b\")\n",
    "#plt.title(\"Variance Explained by Each PC\\n\", fontsize=20, color=\"b\")\n",
    "#plt.show()\n",
    "print('Explained variation per principal component: {}'.format((pca.explained_variance_ratio_)*100))"
   ]
  },
  {
   "cell_type": "code",
   "execution_count": 25,
   "id": "10edaf3d",
   "metadata": {},
   "outputs": [
    {
     "data": {
      "image/png": "[encoded data removed]",
      "text/plain": [
       "<Figure size 576x432 with 1 Axes>"
      ]
     },
     "metadata": {},
     "output_type": "display_data"
    }
   ],
   "source": [
    "df = pd.DataFrame({'Cumulative Variance Explained %':np.cumsum(pca.explained_variance_ratio_)*100,\n",
    "             'No. of Components':['1','2', '3', '4']})\n",
    "sns.lineplot(x='No. of Components',y=\"Cumulative Variance Explained %\", data=df, color=\"b\")\n",
    "plt.title(\"Cumulative Variance Explained by PC\\n\", fontsize=20, color=\"b\")\n",
    "plt.show()\n",
    "\n",
    "#The graph shows that over 90% of the variance is explained by the first 3 principal components. \n",
    "#While not a material decrease from all 4 features available in the data, it is possible to use\n",
    "#principal component analysis to decrease model run time without material decrease in performance."
   ]
  },
  {
   "cell_type": "markdown",
   "id": "3a79c0a9",
   "metadata": {},
   "source": [
    "# Model Building\n",
    "\n",
    "## Split Data into Train and Test\n",
    "\n",
    "We start by splitting the data into a training set and a test set. The test set will be set aside to be used for comparing the performance of models only after all the models have been fitted.\n",
    "When building models, it is possible that the model is over-fitted to data used for training and will thus perform poorly on unseen data. This is usually indicated by high training data accuracy, but low validation data accuracy. To avoid overfitting, we can \n",
    "\n",
    "a. further split the training data into separate train and validation datasets. The train dataset can be used for training the model, while the validation dataset is used to determine how well the model predicts on a new set of data \n",
    "\n",
    "OR \n",
    "\n",
    "b. use k-fold cross-validation to repeatedly split the training data into separate folds where each fold contains a set of train data as well as validation data. This is set up such that each record is in the validation set for at least one-fold.\n"
   ]
  },
  {
   "cell_type": "code",
   "execution_count": 26,
   "id": "74358d6b",
   "metadata": {},
   "outputs": [],
   "source": [
    "# Using first 3 Principal Components\n",
    "\n",
    "#Cross validation will be used to fit the models\n",
    "#the test set will be used to compare the performance of each of the model types\n",
    "pca_mammoData = concatenated.drop(['pc4'], axis=1)\n",
    "trainPC, valPC = train_test_split(pca_mammoData, test_size=0.2, random_state=2002)\n",
    "XPC_train = trainPC.drop(['Severity'], axis=1)\n",
    "yPC_train = trainPC.loc[:,'Severity']\n",
    "\n",
    "XPC_test = valPC.drop(['Severity'], axis=1)\n",
    "yPC_test = valPC.loc[:,'Severity']"
   ]
  },
  {
   "cell_type": "code",
   "execution_count": 27,
   "id": "0be3b22b",
   "metadata": {},
   "outputs": [
    {
     "data": {
      "text/html": [
       "<div>\n",
       "<style scoped>\n",
       "    .dataframe tbody tr th:only-of-type {\n",
       "        vertical-align: middle;\n",
       "    }\n",
       "\n",
       "    .dataframe tbody tr th {\n",
       "        vertical-align: top;\n",
       "    }\n",
       "\n",
       "    .dataframe thead th {\n",
       "        text-align: right;\n",
       "    }\n",
       "</style>\n",
       "<table border=\"1\" class=\"dataframe\">\n",
       "  <thead>\n",
       "    <tr style=\"text-align: right;\">\n",
       "      <th></th>\n",
       "      <th>pc1</th>\n",
       "      <th>pc2</th>\n",
       "      <th>pc3</th>\n",
       "    </tr>\n",
       "  </thead>\n",
       "  <tbody>\n",
       "    <tr>\n",
       "      <th>718</th>\n",
       "      <td>1.794073</td>\n",
       "      <td>2.403135</td>\n",
       "      <td>-0.169702</td>\n",
       "    </tr>\n",
       "    <tr>\n",
       "      <th>106</th>\n",
       "      <td>2.197724</td>\n",
       "      <td>-0.638684</td>\n",
       "      <td>-1.471561</td>\n",
       "    </tr>\n",
       "    <tr>\n",
       "      <th>166</th>\n",
       "      <td>2.500858</td>\n",
       "      <td>2.210612</td>\n",
       "      <td>-1.482588</td>\n",
       "    </tr>\n",
       "    <tr>\n",
       "      <th>445</th>\n",
       "      <td>2.004965</td>\n",
       "      <td>-0.586178</td>\n",
       "      <td>-1.113501</td>\n",
       "    </tr>\n",
       "    <tr>\n",
       "      <th>72</th>\n",
       "      <td>-0.366163</td>\n",
       "      <td>-0.319168</td>\n",
       "      <td>-1.941949</td>\n",
       "    </tr>\n",
       "  </tbody>\n",
       "</table>\n",
       "</div>"
      ],
      "text/plain": [
       "          pc1       pc2       pc3\n",
       "718  1.794073  2.403135 -0.169702\n",
       "106  2.197724 -0.638684 -1.471561\n",
       "166  2.500858  2.210612 -1.482588\n",
       "445  2.004965 -0.586178 -1.113501\n",
       "72  -0.366163 -0.319168 -1.941949"
      ]
     },
     "execution_count": 27,
     "metadata": {},
     "output_type": "execute_result"
    }
   ],
   "source": [
    "XPC_train.head()"
   ]
  },
  {
   "cell_type": "markdown",
   "id": "d91a567a",
   "metadata": {},
   "source": [
    "## Cross Validation to determine best parameters"
   ]
  },
  {
   "cell_type": "code",
   "execution_count": 28,
   "id": "554973be",
   "metadata": {},
   "outputs": [],
   "source": [
    "#tune parameters using PCA data\n",
    "def tuneParams(model, params, cv):\n",
    "    model_cv = GridSearchCV(model, params, cv=10)\n",
    "    model_cv.fit(XPC_train,yPC_train)\n",
    "    print('tuned hyperparameters :(best parameters) ', model_cv.best_params_)\n",
    "    print('accuracy :', model_cv.best_score_)\n",
    "    return\n",
    "\n",
    "\n",
    "#Calculate accuracy\n",
    "def calcAcc(model, modelName):\n",
    "    final_model = model.fit(XPC_train, yPC_train)\n",
    "    training_accuracy = final_model.score(XPC_train, yPC_train)\n",
    "    print(\"Training Accuracy for\",str(modelName),\"is: \", training_accuracy)\n",
    "    return final_model"
   ]
  },
  {
   "cell_type": "markdown",
   "id": "ced0c27f",
   "metadata": {},
   "source": [
    "## Model 1 - Logistic Regression\n",
    "\n",
    "The first model will be a logistic regression, which will be used to classify the results as either benign (0) or malignant (1). The logistic regression model will determine the probability that a record belongs to one of these classes. In order to assign the record to a specific class, we then set a cut-off or threshold, so that if the probability exceed this amount, the record will be labelled as \"1\" i.e. malignant. The threshold can be set to reduce the occurrence of false positives and false negatives."
   ]
  },
  {
   "cell_type": "code",
   "execution_count": 29,
   "id": "526b19f5",
   "metadata": {},
   "outputs": [
    {
     "name": "stdout",
     "output_type": "stream",
     "text": [
      "[0.7761194  0.71641791 0.91044776 0.85074627 0.89552239 0.79104478\n",
      " 0.79104478 0.73134328 0.75757576 0.78787879]\n",
      "0.8008141112618725\n",
      "0.06186187525412794\n"
     ]
    }
   ],
   "source": [
    "# Try a logistic Regression model\n",
    "lr_model_1 = LogisticRegression(fit_intercept=True)\n",
    "all_accuracies_lr = cross_val_score(estimator=lr_model_1, X=XPC_train, y=yPC_train, scoring='accuracy', cv=10)\n",
    "print(all_accuracies_lr)\n",
    "print(all_accuracies_lr.mean())\n",
    "print(all_accuracies_lr.std())"
   ]
  },
  {
   "cell_type": "code",
   "execution_count": 30,
   "id": "5f82a4d0",
   "metadata": {},
   "outputs": [
    {
     "name": "stdout",
     "output_type": "stream",
     "text": [
      "tuned hyperparameters :(best parameters)  {'C': 0.08858667904100823, 'penalty': 'l2', 'solver': 'liblinear'}\n",
      "accuracy : 0.8083220262324741\n"
     ]
    }
   ],
   "source": [
    "#Use grid search and cross validation to tune parameters for logistic regression model\n",
    "\n",
    "lrparams={'C':np.logspace(-2,4,20), 'solver' :['newton-cg','lbfgs', 'liblinear'], 'penalty':['l1','l2']}# l1 lasso l2 ridge\n",
    "lr_model_2=LogisticRegression()\n",
    "\n",
    "tuneParams(lr_model_2, lrparams, 10)"
   ]
  },
  {
   "cell_type": "code",
   "execution_count": 31,
   "id": "87403511",
   "metadata": {},
   "outputs": [
    {
     "name": "stdout",
     "output_type": "stream",
     "text": [
      "Training Accuracy for Logistic Regression is:  0.8083832335329342\n"
     ]
    }
   ],
   "source": [
    "#Print accuracy for final model\n",
    "lr_model = LogisticRegression(solver='liblinear', C = 0.0885866792, penalty = 'l2')\n",
    "final_lr = calcAcc(lr_model, 'Logistic Regression')"
   ]
  },
  {
   "cell_type": "markdown",
   "id": "25e9f1e7",
   "metadata": {},
   "source": [
    "## Model 2 - Decision Tree Model\n",
    "\n",
    "A decision tree works by recursively dividing the inputs into decisions, where nodes represent features, and branches are the decisions made to divide the data. The leaves of the tree represent the outcome for each record. Decision tree models are very interpretable, but often suffers from over-fitting. This can be overcome by pruning the tree, or by setting limits on the number of leaf nodes."
   ]
  },
  {
   "cell_type": "code",
   "execution_count": 32,
   "id": "f75d3e75",
   "metadata": {},
   "outputs": [
    {
     "name": "stdout",
     "output_type": "stream",
     "text": [
      "[0.73134328 0.68656716 0.82089552 0.71641791 0.7761194  0.67164179\n",
      " 0.74626866 0.74626866 0.66666667 0.77272727]\n",
      "0.7334916327453641\n",
      "0.04702288698648939\n"
     ]
    }
   ],
   "source": [
    "# Try a decision tree model\n",
    "dt_model_1 = tree.DecisionTreeClassifier()\n",
    "all_accuracies_dt = cross_val_score(estimator=dt_model_1, X=XPC_train, y=yPC_train, scoring='accuracy', cv=10)\n",
    "print(all_accuracies_dt)\n",
    "print(all_accuracies_dt.mean())\n",
    "print(all_accuracies_dt.std())"
   ]
  },
  {
   "cell_type": "code",
   "execution_count": 33,
   "id": "9ef64fcc",
   "metadata": {},
   "outputs": [
    {
     "name": "stdout",
     "output_type": "stream",
     "text": [
      "tuned hyperparameters :(best parameters)  {'criterion': 'gini', 'max_depth': 5, 'max_leaf_nodes': 2, 'min_samples_split': 2}\n",
      "accuracy : 0.8068068747173225\n"
     ]
    }
   ],
   "source": [
    "#Use grid search and cross validation to tune parameters for tree model\n",
    "\n",
    "treeparams = {'max_leaf_nodes': list(range(2, 12)), 'min_samples_split': [2, 3, 4], 'max_depth': [5,7,9], 'criterion': ['gini', 'entropy']}\n",
    "dt_model_2 = tree.DecisionTreeClassifier(random_state=0)\n",
    "\n",
    "tuneParams(dt_model_2, treeparams, 10)"
   ]
  },
  {
   "cell_type": "code",
   "execution_count": 34,
   "id": "0934f01d",
   "metadata": {},
   "outputs": [
    {
     "name": "stdout",
     "output_type": "stream",
     "text": [
      "Training Accuracy for Decision Tree is:  0.812874251497006\n"
     ]
    }
   ],
   "source": [
    "#Print accuracy for final model\n",
    "tree_model = tree.DecisionTreeClassifier(criterion = 'gini',max_leaf_nodes = 2, min_samples_split =2 ,  max_depth = 5)\n",
    "final_tree = calcAcc(tree_model, 'Decision Tree')"
   ]
  },
  {
   "cell_type": "code",
   "execution_count": 37,
   "id": "63deec49",
   "metadata": {
    "scrolled": false
   },
   "outputs": [
    {
     "data": {
      "image/png": "[encoded data removed]",
      "text/plain": [
       "<Figure size 432x432 with 1 Axes>"
      ]
     },
     "metadata": {},
     "output_type": "display_data"
    }
   ],
   "source": [
    "#Plot the tree\n",
    "plt.figure(figsize=(6,6))\n",
    "plot_tree(final_tree,  fontsize=8, filled=True)\n",
    "plt.title(\"Decision tree trained on Mammogram Mass Data\")\n",
    "plt.show()"
   ]
  },
  {
   "cell_type": "markdown",
   "id": "db7cdd26",
   "metadata": {},
   "source": [
    "## Model 3 : K-nearest Neighbours Model\n",
    "The K-nearest neighbours approach groups individual observations into categories based on its proximity to other similar data records. The k-nearest neighbours approach is relatively simple to implement due to the small number of parameters but does not perform well when data is high-dimensional as it tends to overfit.\n"
   ]
  },
  {
   "cell_type": "code",
   "execution_count": 38,
   "id": "0d79c0d0",
   "metadata": {},
   "outputs": [
    {
     "name": "stdout",
     "output_type": "stream",
     "text": [
      "[0.79104478 0.73134328 0.85074627 0.82089552 0.80597015 0.73134328\n",
      " 0.7761194  0.74626866 0.72727273 0.86363636]\n",
      "0.7844640434192673\n",
      "0.04789327556678665\n"
     ]
    }
   ],
   "source": [
    "# Build a K-Nearest Neighbours Model\n",
    "k_model_1 = KNeighborsClassifier()\n",
    "all_accuracies_km = cross_val_score(estimator= k_model_1, X=XPC_train, y=yPC_train, scoring='accuracy', cv=10)\n",
    "print(all_accuracies_km)\n",
    "print(all_accuracies_km.mean())\n",
    "print(all_accuracies_km.std())"
   ]
  },
  {
   "cell_type": "code",
   "execution_count": 39,
   "id": "36c8ba56",
   "metadata": {},
   "outputs": [
    {
     "name": "stdout",
     "output_type": "stream",
     "text": [
      "tuned hyperparameters :(best parameters)  {'n_neighbors': 19, 'weights': 'uniform'}\n",
      "accuracy : 0.8053821800090457\n"
     ]
    }
   ],
   "source": [
    "#Use grid search and cross validation to tune parameters for knn model\n",
    "knnparams = {'n_neighbors' :list(range(1, 20)), 'weights': ['uniform', 'distance']}\n",
    "k_model_2 = KNeighborsClassifier()\n",
    "\n",
    "tuneParams(k_model_2, knnparams, 10)"
   ]
  },
  {
   "cell_type": "code",
   "execution_count": 40,
   "id": "44250083",
   "metadata": {},
   "outputs": [
    {
     "name": "stdout",
     "output_type": "stream",
     "text": [
      "Training Accuracy for K-Nearest Neighbours is:  0.8098802395209581\n"
     ]
    }
   ],
   "source": [
    "knn_model =  KNeighborsClassifier(n_neighbors=19, weights='uniform')\n",
    "final_knn = calcAcc(knn_model, 'K-Nearest Neighbours')"
   ]
  },
  {
   "cell_type": "markdown",
   "id": "81367c1c",
   "metadata": {},
   "source": [
    "## Model 4: Random Forest\n",
    "* write a description of what it is"
   ]
  },
  {
   "cell_type": "code",
   "execution_count": 41,
   "id": "d7ce497e",
   "metadata": {},
   "outputs": [
    {
     "name": "stdout",
     "output_type": "stream",
     "text": [
      "[0.74626866 0.74626866 0.86567164 0.79104478 0.80597015 0.73134328\n",
      " 0.74626866 0.79104478 0.71212121 0.78787879]\n",
      "0.7723880597014926\n",
      "0.042578314223861824\n"
     ]
    }
   ],
   "source": [
    "# define final model as final_rf\n",
    "rf_model_1 = RandomForestClassifier(random_state = 1)\n",
    "all_accuracies_rf = cross_val_score(estimator= rf_model_1, X=XPC_train, y=yPC_train, scoring='accuracy', cv=10)\n",
    "print(all_accuracies_rf)\n",
    "print(all_accuracies_rf.mean())\n",
    "print(all_accuracies_rf.std())"
   ]
  },
  {
   "cell_type": "code",
   "execution_count": 42,
   "id": "95a34157",
   "metadata": {},
   "outputs": [
    {
     "name": "stdout",
     "output_type": "stream",
     "text": [
      "tuned hyperparameters :(best parameters)  {'criterion': 'gini', 'max_depth': 4}\n",
      "accuracy : 0.8098145635459069\n"
     ]
    }
   ],
   "source": [
    "#Use grid search and cross validation to tune parameters for Random Forests model\n",
    "rfparams = {'max_depth' : range(1,10),'criterion' :['gini', 'entropy']}\n",
    "rf_model_2 = RandomForestClassifier()\n",
    "\n",
    "tuneParams(rf_model_2, rfparams, 10)"
   ]
  },
  {
   "cell_type": "code",
   "execution_count": 43,
   "id": "cb218b4a",
   "metadata": {},
   "outputs": [
    {
     "name": "stdout",
     "output_type": "stream",
     "text": [
      "Training Accuracy for Random Forests is:  0.8532934131736527\n"
     ]
    }
   ],
   "source": [
    "rf_model = RandomForestClassifier(criterion = 'gini',max_depth = 6)\n",
    "final_rf = calcAcc(rf_model, 'Random Forests')"
   ]
  },
  {
   "cell_type": "markdown",
   "id": "76cbc243",
   "metadata": {},
   "source": [
    "## Model 5: SVM \n",
    "* write a description of what it is"
   ]
  },
  {
   "cell_type": "code",
   "execution_count": 44,
   "id": "5b1a7f93",
   "metadata": {},
   "outputs": [
    {
     "name": "stdout",
     "output_type": "stream",
     "text": [
      "[0.7761194  0.70149254 0.88059701 0.80597015 0.92537313 0.76119403\n",
      " 0.79104478 0.7761194  0.74242424 0.8030303 ]\n",
      "0.7963364993215739\n",
      "0.06153882345274332\n"
     ]
    }
   ],
   "source": [
    "# define final model as final_svm\n",
    "svm_model_1 = svm.SVC(kernel='rbf', random_state = 1)\n",
    "all_accuracies_svm = cross_val_score(estimator= svm_model_1, X=XPC_train, y=yPC_train, scoring='accuracy', cv=10)\n",
    "print(all_accuracies_svm)\n",
    "print(all_accuracies_svm.mean())\n",
    "print(all_accuracies_svm.std())"
   ]
  },
  {
   "cell_type": "code",
   "execution_count": 45,
   "id": "416e83f7",
   "metadata": {},
   "outputs": [
    {
     "name": "stdout",
     "output_type": "stream",
     "text": [
      "tuned hyperparameters :(best parameters)  {'gamma': 'scale', 'kernel': 'linear'}\n",
      "accuracy : 0.7978290366350067\n"
     ]
    }
   ],
   "source": [
    "svmparams = {'gamma' : ['scale', 'auto'], 'kernel' : ['linear', 'poly', 'rbf', 'sigmoid']}\n",
    "svm_model_2 = svm.SVC()\n",
    "\n",
    "tuneParams(svm_model_2, svmparams, 10)"
   ]
  },
  {
   "cell_type": "code",
   "execution_count": 46,
   "id": "17e2b0ad",
   "metadata": {},
   "outputs": [
    {
     "name": "stdout",
     "output_type": "stream",
     "text": [
      "Training Accuracy for SVM is:  0.7994011976047904\n"
     ]
    }
   ],
   "source": [
    "svm_model = svm.SVC(kernel = \"linear\", gamma = \"scale\", probability = True)\n",
    "final_svm = calcAcc(svm_model, 'SVM')"
   ]
  },
  {
   "cell_type": "markdown",
   "id": "4835dab2",
   "metadata": {},
   "source": [
    "## Model 6: ANN (Artificial Neural Network)\n",
    "* write a description of what it is"
   ]
  },
  {
   "cell_type": "code",
   "execution_count": 47,
   "id": "50b94ae6",
   "metadata": {},
   "outputs": [
    {
     "name": "stdout",
     "output_type": "stream",
     "text": [
      "[0.79104478 0.71641791 0.91044776 0.82089552 0.88059701 0.74626866\n",
      " 0.7761194  0.7761194  0.77272727 0.77272727]\n",
      "0.7963364993215739\n",
      "0.05619464864594115\n"
     ]
    }
   ],
   "source": [
    "# build an untuned ann model\n",
    "# NEED RANDOM_STATE\n",
    "ann_model_1 = MLPClassifier(hidden_layer_sizes=(8), activation='relu', solver='adam', max_iter=500)\n",
    "ann_model_1.fit(XPC_train,yPC_train)\n",
    "\n",
    "predict_train = ann_model_1.predict(XPC_train)\n",
    "predict_test = ann_model_1.predict(XPC_test)\n",
    "\n",
    "\n",
    "all_accuracies_ann = cross_val_score(estimator= ann_model_1, X=XPC_train, y=yPC_train, scoring='accuracy', cv=10)\n",
    "print(all_accuracies_ann)\n",
    "print(all_accuracies_ann.mean())\n",
    "print(all_accuracies_ann.std())"
   ]
  },
  {
   "cell_type": "code",
   "execution_count": 48,
   "id": "13d55211",
   "metadata": {},
   "outputs": [
    {
     "name": "stdout",
     "output_type": "stream",
     "text": [
      "tuned hyperparameters :(best parameters)  {'activation': 'relu', 'hidden_layer_sizes': 5, 'max_iter': 1200, 'solver': 'lbfgs'}\n",
      "accuracy : 0.8083672546359114\n"
     ]
    }
   ],
   "source": [
    "#Use grid search and cross validation to tune parameters for ann model\n",
    "annparams = {'hidden_layer_sizes' :[ (3), (5), (3,5)],\n",
    "             'activation':['identity', 'logistic', 'relu'],\n",
    "             'solver': ['lbfgs', 'sgd', 'adam'], \n",
    "             'max_iter':[1000, 1200]}\n",
    "a_model_2 = MLPClassifier()\n",
    "\n",
    "tuneParams(a_model_2, annparams, 10)"
   ]
  },
  {
   "cell_type": "code",
   "execution_count": 49,
   "id": "7c667f64",
   "metadata": {},
   "outputs": [
    {
     "name": "stdout",
     "output_type": "stream",
     "text": [
      "Training Accuracy for Artificial Neural Network is:  0.8083832335329342\n"
     ]
    }
   ],
   "source": [
    "#build tuned ann model\n",
    "\n",
    "ann_model =  MLPClassifier(hidden_layer_sizes=(3), activation='identity', solver='adam', max_iter=1000)\n",
    "final_ann = calcAcc(ann_model, 'Artificial Neural Network')"
   ]
  },
  {
   "cell_type": "markdown",
   "id": "72979ed4",
   "metadata": {},
   "source": [
    "# Compare Models\n",
    "\n",
    "We will use the test data that was set aside prior to doing any model-building to compare the performance of the 3 classification model approaches used above.\n",
    "\n",
    "One of the most commonly used methods to assess results of a classification model is the confusion matrix. The classification models above are all used for assigning each record to one of two classes i.e. benign (0) or malignant (1). \n",
    "\n",
    "A confusion matrix is used to categorize counts that line up predicted classes versus actual classes\n",
    "\n",
    "There are two types of errors that could occur: \n",
    "\n",
    "- False positive (FP): a benign mass is mis-classified as malignant \n",
    "\n",
    "- False negative (FN): a malignant mass is mis-classified as benign\n",
    "\n",
    "Using these values, the following can be calculated: Precision = TP/(TP+FP) i.e. proportion of masses classified as malignant that are actually malignant.\n",
    "\n",
    "- Recall = TP/(TP+FN) i.e. proportion of malignant masses correctly classified as malignant.\n",
    "\n",
    "- False-alarm rate = FP/(FP+TN) i.e. proportion of benign masses incorrectly classified as malignant.\n",
    "\n",
    "- False negative rate = FN/(FN+TP) i.e. proportion of malignant masses incorrectly classified as benign.\n",
    "\n",
    "In the case of a breast-cancer classification, presumably a false negative would be harmful, as someone with breast cancer can be falsely given a clean bill of health. Without early detection, this patient will not be able to receive early intervention, which can lead to a poor future prognosis. However, a low FNR can be achieved by bypassing screening and sending every patient for an invasive biopsy, which is not desirable either. Thus, models will be assessed by several metrics in order to determine the most appropriate approach.\n",
    "\n",
    "In order to compare the predictive performance of each model, we will plot ROC curves which are a measure of sensitivity of the model and calculate the Area Under the Curve (AUC). A higher AUC indicates a model with more predictive power.\n",
    "\n",
    "\n"
   ]
  },
  {
   "cell_type": "code",
   "execution_count": 50,
   "id": "b96a6b98",
   "metadata": {},
   "outputs": [],
   "source": [
    "def predictions(model):\n",
    "    y_predict_class = model.predict(XPC_test)\n",
    "    return y_predict_class\n",
    "\n",
    "def confMatrix(y_predict, modelName):\n",
    "    print(confusion_matrix(yPC_test, y_predict))\n",
    "    print('Classification Report for',str(modelName),'\\n',classification_report(yPC_test, y_predict))\n",
    "    return"
   ]
  },
  {
   "cell_type": "code",
   "execution_count": 51,
   "id": "0f864076",
   "metadata": {},
   "outputs": [
    {
     "name": "stdout",
     "output_type": "stream",
     "text": [
      "[[65 24]\n",
      " [12 67]]\n",
      "Classification Report for Logistic Regression \n",
      "               precision    recall  f1-score   support\n",
      "\n",
      "           0       0.84      0.73      0.78        89\n",
      "           1       0.74      0.85      0.79        79\n",
      "\n",
      "    accuracy                           0.79       168\n",
      "   macro avg       0.79      0.79      0.79       168\n",
      "weighted avg       0.79      0.79      0.79       168\n",
      "\n"
     ]
    }
   ],
   "source": [
    "# predict and confusion matrix for Logistic Regression\n",
    "y_predict_class_lr = predictions(final_lr)\n",
    "confMatrix(y_predict_class_lr, 'Logistic Regression')"
   ]
  },
  {
   "cell_type": "code",
   "execution_count": 52,
   "id": "684e3d9a",
   "metadata": {},
   "outputs": [
    {
     "name": "stdout",
     "output_type": "stream",
     "text": [
      "[[67 22]\n",
      " [13 66]]\n",
      "Classification Report for Decision Tree \n",
      "               precision    recall  f1-score   support\n",
      "\n",
      "           0       0.84      0.75      0.79        89\n",
      "           1       0.75      0.84      0.79        79\n",
      "\n",
      "    accuracy                           0.79       168\n",
      "   macro avg       0.79      0.79      0.79       168\n",
      "weighted avg       0.80      0.79      0.79       168\n",
      "\n"
     ]
    }
   ],
   "source": [
    "# predict and confusion matrix for Decision Tree\n",
    "y_predict_class_tree = predictions(final_tree)\n",
    "confMatrix(y_predict_class_tree, 'Decision Tree')"
   ]
  },
  {
   "cell_type": "code",
   "execution_count": 53,
   "id": "39edb3f2",
   "metadata": {},
   "outputs": [
    {
     "name": "stdout",
     "output_type": "stream",
     "text": [
      "[[65 24]\n",
      " [14 65]]\n",
      "Classification Report for K-Nearest Neighbours \n",
      "               precision    recall  f1-score   support\n",
      "\n",
      "           0       0.82      0.73      0.77        89\n",
      "           1       0.73      0.82      0.77        79\n",
      "\n",
      "    accuracy                           0.77       168\n",
      "   macro avg       0.78      0.78      0.77       168\n",
      "weighted avg       0.78      0.77      0.77       168\n",
      "\n"
     ]
    }
   ],
   "source": [
    "# predict and confusion matrix for K-Nearest Neighbours\n",
    "y_predict_class_knn = predictions(final_knn)\n",
    "confMatrix(y_predict_class_knn, 'K-Nearest Neighbours')"
   ]
  },
  {
   "cell_type": "code",
   "execution_count": 54,
   "id": "9dfd0dc7",
   "metadata": {},
   "outputs": [
    {
     "name": "stdout",
     "output_type": "stream",
     "text": [
      "[[64 25]\n",
      " [11 68]]\n",
      "Classification Report for Random Forest \n",
      "               precision    recall  f1-score   support\n",
      "\n",
      "           0       0.85      0.72      0.78        89\n",
      "           1       0.73      0.86      0.79        79\n",
      "\n",
      "    accuracy                           0.79       168\n",
      "   macro avg       0.79      0.79      0.79       168\n",
      "weighted avg       0.80      0.79      0.79       168\n",
      "\n"
     ]
    }
   ],
   "source": [
    "# predict and confusion matrix for Random Forest\n",
    "y_predict_class_rf = predictions(final_rf)\n",
    "confMatrix(y_predict_class_rf, 'Random Forest')"
   ]
  },
  {
   "cell_type": "code",
   "execution_count": 55,
   "id": "f7aaf8d0",
   "metadata": {},
   "outputs": [
    {
     "name": "stdout",
     "output_type": "stream",
     "text": [
      "[[65 24]\n",
      " [ 7 72]]\n",
      "Classification Report for Support Vector Machine \n",
      "               precision    recall  f1-score   support\n",
      "\n",
      "           0       0.90      0.73      0.81        89\n",
      "           1       0.75      0.91      0.82        79\n",
      "\n",
      "    accuracy                           0.82       168\n",
      "   macro avg       0.83      0.82      0.82       168\n",
      "weighted avg       0.83      0.82      0.81       168\n",
      "\n"
     ]
    }
   ],
   "source": [
    "# predict and confusion matrix for SVM\n",
    "y_predict_class_svm = predictions(final_svm)\n",
    "confMatrix(y_predict_class_svm, 'Support Vector Machine')"
   ]
  },
  {
   "cell_type": "code",
   "execution_count": 56,
   "id": "d714507a",
   "metadata": {},
   "outputs": [
    {
     "name": "stdout",
     "output_type": "stream",
     "text": [
      "[[65 24]\n",
      " [12 67]]\n",
      "Classification Report for Artificial Neural Networks \n",
      "               precision    recall  f1-score   support\n",
      "\n",
      "           0       0.84      0.73      0.78        89\n",
      "           1       0.74      0.85      0.79        79\n",
      "\n",
      "    accuracy                           0.79       168\n",
      "   macro avg       0.79      0.79      0.79       168\n",
      "weighted avg       0.79      0.79      0.79       168\n",
      "\n"
     ]
    }
   ],
   "source": [
    "# predict and confusion matrix for ANN\n",
    "y_predict_class_ann = predictions(final_ann)\n",
    "confMatrix(y_predict_class_ann, 'Artificial Neural Networks')"
   ]
  },
  {
   "cell_type": "code",
   "execution_count": 57,
   "id": "3545aadf",
   "metadata": {},
   "outputs": [],
   "source": [
    "#Calculate metrics for each model using test data:\n",
    "def calcMetrics(y_act, y_pred, model):\n",
    "    tn, fp, fn, tp = confusion_matrix(list(y_act), list(y_pred), labels=[0, 1]).ravel()\n",
    "    acc = round((tp+tn)/(tp+tn+fp+fn) *100,2)\n",
    "    prec = round((tp)/(tp+fp) *100,2)\n",
    "    far = round((fp)/(fp+tn) *100,2)\n",
    "    fnr = round(fn/(fn+tp) *100,2)\n",
    "    print(\"The accuracy for\",str(model), 'is:',acc,'%')\n",
    "    print(\"The precision for\",str(model), 'is:',prec,'%')\n",
    "    print(\"The false alarm rate for\",str(model), 'is:',far,'%')\n",
    "    print(\"The false negative Rate for\",str(model), 'is:',fnr,'%\\n')\n",
    "    return \n",
    "\n",
    "\n",
    "def calc_auc(y_preds, model):\n",
    "    auc = metrics.roc_auc_score(yPC_test, y_preds)\n",
    "    print(\"The AUC for\", str(model),\"is:\",auc)\n",
    "    return"
   ]
  },
  {
   "cell_type": "code",
   "execution_count": 58,
   "id": "1e750044",
   "metadata": {},
   "outputs": [
    {
     "name": "stdout",
     "output_type": "stream",
     "text": [
      "The accuracy for Logistic Regression is: 78.57 %\n",
      "The precision for Logistic Regression is: 73.63 %\n",
      "The false alarm rate for Logistic Regression is: 26.97 %\n",
      "The false negative Rate for Logistic Regression is: 15.19 %\n",
      "\n",
      "The accuracy for Decision Tree is: 79.17 %\n",
      "The precision for Decision Tree is: 75.0 %\n",
      "The false alarm rate for Decision Tree is: 24.72 %\n",
      "The false negative Rate for Decision Tree is: 16.46 %\n",
      "\n",
      "The accuracy for K-Nearest Neighbours is: 77.38 %\n",
      "The precision for K-Nearest Neighbours is: 73.03 %\n",
      "The false alarm rate for K-Nearest Neighbours is: 26.97 %\n",
      "The false negative Rate for K-Nearest Neighbours is: 17.72 %\n",
      "\n",
      "The accuracy for Random Forest is: 78.57 %\n",
      "The precision for Random Forest is: 73.12 %\n",
      "The false alarm rate for Random Forest is: 28.09 %\n",
      "The false negative Rate for Random Forest is: 13.92 %\n",
      "\n",
      "The accuracy for SVM is: 81.55 %\n",
      "The precision for SVM is: 75.0 %\n",
      "The false alarm rate for SVM is: 26.97 %\n",
      "The false negative Rate for SVM is: 8.86 %\n",
      "\n",
      "The accuracy for ANN is: 78.57 %\n",
      "The precision for ANN is: 73.63 %\n",
      "The false alarm rate for ANN is: 26.97 %\n",
      "The false negative Rate for ANN is: 15.19 %\n",
      "\n"
     ]
    }
   ],
   "source": [
    "# prints out all the metrics for each model\n",
    "calcMetrics(yPC_test, y_predict_class_lr, 'Logistic Regression')\n",
    "calcMetrics(yPC_test, y_predict_class_tree, \"Decision Tree\")\n",
    "calcMetrics(yPC_test, y_predict_class_knn, \"K-Nearest Neighbours\")\n",
    "\n",
    "calcMetrics(yPC_test, y_predict_class_rf, \"Random Forest\")\n",
    "calcMetrics(yPC_test, y_predict_class_svm, \"SVM\")\n",
    "calcMetrics(yPC_test, y_predict_class_ann, \"ANN\")"
   ]
  },
  {
   "cell_type": "code",
   "execution_count": 59,
   "id": "81760000",
   "metadata": {},
   "outputs": [
    {
     "data": {
      "image/png": "[encoded data removed]",
      "text/plain": [
       "<Figure size 576x432 with 1 Axes>"
      ]
     },
     "metadata": {},
     "output_type": "display_data"
    }
   ],
   "source": [
    "#Get predictions on val and plot roc_curve\n",
    "\n",
    "# Using .predict_proba(...) method to get probabilities, not classes\n",
    "#get predictions \n",
    "y_predict_lr = final_lr.predict_proba(XPC_test)[:,1]\n",
    "y_predict_tree = final_tree.predict_proba(XPC_test)[:,1]\n",
    "y_predict_knn = final_knn.predict_proba(XPC_test)[:,1]\n",
    "\n",
    "y_predict_rf = final_rf.predict_proba(XPC_test)[:,1]\n",
    "y_predict_svm = final_svm.predict_proba(XPC_test)[:,1]\n",
    "y_predict_ann = final_ann.predict_proba(XPC_test)[:,1]\n",
    "\n",
    "# plot roc\n",
    "false_pos_lr, sens_lr, thresh_lr = roc_curve(yPC_test, y_predict_lr)\n",
    "false_pos_tree, sens_tree, thresh_tree = roc_curve(yPC_test, y_predict_tree)\n",
    "false_pos_knn, sens_knn, thresh_knn = roc_curve(yPC_test, y_predict_knn)\n",
    "\n",
    "false_pos_rf, sens_rf, thresh_rf = roc_curve(yPC_test, y_predict_rf)\n",
    "false_pos_svm, sens_svm, thresh_svm = roc_curve(yPC_test, y_predict_svm)\n",
    "false_pos_ann, sens_ann, thresh_ann = roc_curve(yPC_test, y_predict_ann)\n",
    "\n",
    "# area under curve\n",
    "auc_lr = metrics.roc_auc_score(yPC_test, y_predict_lr)\n",
    "auc_tree = metrics.roc_auc_score(yPC_test, y_predict_tree)\n",
    "auc_knn = metrics.roc_auc_score(yPC_test, y_predict_knn)\n",
    "\n",
    "auc_rf = metrics.roc_auc_score(yPC_test, y_predict_rf)\n",
    "auc_svm = metrics.roc_auc_score(yPC_test, y_predict_svm)\n",
    "auc_ann = metrics.roc_auc_score(yPC_test, y_predict_ann)\n",
    "\n",
    "\n",
    "plt.plot(false_pos_lr, sens_lr, label=\"Logistic Regression (auc = \"+ str(round(auc_lr,2)) + \")\")\n",
    "plt.plot(false_pos_tree, sens_tree, label=\"Decision Tree (auc = \"+ str(round(auc_tree,2)) + \")\")\n",
    "plt.plot(false_pos_knn, sens_knn, label=\"K-Nearest Neighbours (auc = \"+ str(round(auc_knn,2)) + \")\")\n",
    "\n",
    "plt.plot(false_pos_rf, sens_rf, label=\"Random Forest (auc = \"+ str(round(auc_rf,2)) + \")\")\n",
    "plt.plot(false_pos_svm, sens_svm, label=\"SVM (auc = \"+ str(round(auc_svm,2)) + \")\")\n",
    "plt.plot(false_pos_ann, sens_ann, label=\"ANN (auc = \"+ str(round(auc_ann,2)) + \")\")\n",
    "\n",
    "\n",
    "plt.ylabel(\"Sensitivity\")\n",
    "plt.xlabel(\"False Positive Rate\")\n",
    "plt.title(\"ROC curve for Classification Models\", fontsize=16);\n",
    "plt.legend();"
   ]
  },
  {
   "cell_type": "code",
   "execution_count": 60,
   "id": "760e6900",
   "metadata": {},
   "outputs": [
    {
     "name": "stdout",
     "output_type": "stream",
     "text": [
      "The AUC for Logistic Regression is: 0.8449722656805575\n",
      "The AUC for Decsion Tree is: 0.7941260133693643\n",
      "The AUC for K-Nearest Neighbours is: 0.8247759920352724\n",
      "The AUC for Random Forest is: 0.8229270374057744\n",
      "The AUC for SVM is: 0.8496657658938984\n",
      "The AUC for ANN is: 0.8434077656094439\n"
     ]
    }
   ],
   "source": [
    "# Print auc values for each model\n",
    "calc_auc(y_predict_lr, 'Logistic Regression')\n",
    "calc_auc(y_predict_tree, 'Decsion Tree')\n",
    "calc_auc(y_predict_knn, 'K-Nearest Neighbours')\n",
    "\n",
    "calc_auc(y_predict_rf, \"Random Forest\")\n",
    "calc_auc(y_predict_svm, \"SVM\")\n",
    "calc_auc(y_predict_ann, \"ANN\")\n",
    "\n",
    "#Since the AUC for the logistic regression is highest, this model is more predictive\n",
    "#than the decision tree or knn model"
   ]
  },
  {
   "cell_type": "markdown",
   "id": "4b44fc77",
   "metadata": {},
   "source": [
    "## Compare to current BI-RADS assessment"
   ]
  },
  {
   "cell_type": "code",
   "execution_count": 61,
   "id": "60c75153",
   "metadata": {},
   "outputs": [
    {
     "name": "stdout",
     "output_type": "stream",
     "text": [
      "The accuracy for BI-RADS assessment is: 48.8 %\n",
      "The precision for BI-RAD S assessment is: 47.7 %\n",
      "The false alarm rate for BI-RADS assessment is: 91.57 %\n",
      "The false negative Rate for BI-RADS assessment is: 1.62 %\n"
     ]
    }
   ],
   "source": [
    "br_acc = round((truepositive+truenegative)/(len(birads))*100,2)\n",
    "br_prec = round(truepositive/(truepositive+falsepositive)*100,2)\n",
    "br_far = round(falsepositive/(falsepositive+truenegative)*100,2)\n",
    "br_fnr = round(falsenegative/(falsenegative+truepositive)*100,2)\n",
    "\n",
    "print(\"The accuracy for BI-RADS assessment is:\",br_acc,'%')\n",
    "print(\"The precision for BI-RAD S assessment is:\",br_prec,'%')\n",
    "print(\"The false alarm rate for BI-RADS assessment is:\",br_far,'%')\n",
    "print(\"The false negative Rate for BI-RADS assessment is:\",br_fnr,'%')"
   ]
  },
  {
   "cell_type": "markdown",
   "id": "e16c07ec",
   "metadata": {},
   "source": [
    "# Conclusion\n",
    "\n",
    "Based on the above analysis, it appears that each of models outperforms the BI-RADS assessment as accuracy and precision higher with the predictive models. Although the false negative rate is lower in the BI-RADS assessment, the false alarm rate is very high (over 90%), so that an excess number of patients are being subjected to unnecessary biopsies. If breast cancer screening were omitted completely so that biopsies were performed in all cases, then the false negative rate would essentially be zero. While we want a low false negative rate, we also need to balance this against the other metrics.\n",
    "\n",
    "Comparing the 3 models explored, the K-Nearest Neighbours model outperforms the other models on accuracy and false negative rate, but the logistic regression model has better precision and a lower false positive rate. The logistic regression also has a high AUC (area under curve) value so is more predictive than the other two models. In all cases though, there is room for improvement. \n",
    "\n",
    "** COMPARE THE NEW 3 Models and might need to change stuff from pca**\n",
    "\n",
    "** COMPARE FROM LAST REPORT THE 3 PREVIOUS MODELS WITH THE SAME ONES IN THIS REPORT AS USING PCA MIGHT CHANGE? **"
   ]
  }
 ],
 "metadata": {
  "kernelspec": {
   "display_name": "Python 3 (ipykernel)",
   "language": "python",
   "name": "python3"
  },
  "language_info": {
   "codemirror_mode": {
    "name": "ipython",
    "version": 3
   },
   "file_extension": ".py",
   "mimetype": "text/x-python",
   "name": "python",
   "nbconvert_exporter": "python",
   "pygments_lexer": "ipython3",
   "version": "3.9.7"
  }
 },
 "nbformat": 4,
 "nbformat_minor": 5
}
